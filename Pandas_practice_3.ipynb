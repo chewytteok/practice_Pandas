{
 "cells": [
  {
   "cell_type": "markdown",
   "metadata": {},
   "source": [
    "### 중복 색인"
   ]
  },
  {
   "cell_type": "code",
   "execution_count": 3,
   "metadata": {},
   "outputs": [],
   "source": [
    "import pandas as pd\n",
    "import numpy as np"
   ]
  },
  {
   "cell_type": "code",
   "execution_count": 7,
   "metadata": {},
   "outputs": [
    {
     "data": {
      "text/plain": [
       "a    0\n",
       "a    1\n",
       "b    2\n",
       "c    3\n",
       "c    4\n",
       "dtype: int64"
      ]
     },
     "execution_count": 7,
     "metadata": {},
     "output_type": "execute_result"
    }
   ],
   "source": [
    "obj = pd.Series(range(5), index=['a','a','b','c','c'])\n",
    "\n",
    "obj"
   ]
  },
  {
   "cell_type": "markdown",
   "metadata": {},
   "source": [
    "#### 해당값이 유일한지 확인하는 방법"
   ]
  },
  {
   "cell_type": "code",
   "execution_count": 8,
   "metadata": {},
   "outputs": [
    {
     "data": {
      "text/plain": [
       "False"
      ]
     },
     "execution_count": 8,
     "metadata": {},
     "output_type": "execute_result"
    }
   ],
   "source": [
    "obj.index.is_unique"
   ]
  },
  {
   "cell_type": "markdown",
   "metadata": {},
   "source": [
    "- 중복되는 색인값이 있다면 색인을 이용해서 데이터에 접근했을 때 다르게 동작한다.\n",
    "- 중복되는 색인값이 없을 때는 색인을 이용해서 데이터에 접근하면 스칼라값을 반환한다.\n",
    "- 중복되는 색인값이 있을 때는 하나의 Series 객체를 반환한다."
   ]
  },
  {
   "cell_type": "code",
   "execution_count": 9,
   "metadata": {},
   "outputs": [
    {
     "data": {
      "text/plain": [
       "a    0\n",
       "a    1\n",
       "dtype: int64"
      ]
     },
     "execution_count": 9,
     "metadata": {},
     "output_type": "execute_result"
    }
   ],
   "source": [
    "obj['a']"
   ]
  },
  {
   "cell_type": "code",
   "execution_count": 10,
   "metadata": {},
   "outputs": [
    {
     "data": {
      "text/plain": [
       "c    3\n",
       "c    4\n",
       "dtype: int64"
      ]
     },
     "execution_count": 10,
     "metadata": {},
     "output_type": "execute_result"
    }
   ],
   "source": [
    "obj['c']"
   ]
  },
  {
   "cell_type": "markdown",
   "metadata": {},
   "source": [
    "- 이는 라벨이 반복되는지 여부에 따라 색인을 이용해서 선택한 결과가 다를 수 있기 때문에 클린 코드를 만드는데 어려움이 생길 수 있다.\n",
    "- DataFrame에서 raw를 선택하는 것도 동일하다."
   ]
  },
  {
   "cell_type": "code",
   "execution_count": 11,
   "metadata": {},
   "outputs": [
    {
     "data": {
      "text/html": [
       "<div>\n",
       "<style scoped>\n",
       "    .dataframe tbody tr th:only-of-type {\n",
       "        vertical-align: middle;\n",
       "    }\n",
       "\n",
       "    .dataframe tbody tr th {\n",
       "        vertical-align: top;\n",
       "    }\n",
       "\n",
       "    .dataframe thead th {\n",
       "        text-align: right;\n",
       "    }\n",
       "</style>\n",
       "<table border=\"1\" class=\"dataframe\">\n",
       "  <thead>\n",
       "    <tr style=\"text-align: right;\">\n",
       "      <th></th>\n",
       "      <th>0</th>\n",
       "      <th>1</th>\n",
       "      <th>2</th>\n",
       "    </tr>\n",
       "  </thead>\n",
       "  <tbody>\n",
       "    <tr>\n",
       "      <th>a</th>\n",
       "      <td>0.272961</td>\n",
       "      <td>-1.200957</td>\n",
       "      <td>-0.034230</td>\n",
       "    </tr>\n",
       "    <tr>\n",
       "      <th>a</th>\n",
       "      <td>0.080201</td>\n",
       "      <td>-0.191606</td>\n",
       "      <td>1.416896</td>\n",
       "    </tr>\n",
       "    <tr>\n",
       "      <th>b</th>\n",
       "      <td>0.298108</td>\n",
       "      <td>0.584475</td>\n",
       "      <td>0.846407</td>\n",
       "    </tr>\n",
       "    <tr>\n",
       "      <th>b</th>\n",
       "      <td>1.627171</td>\n",
       "      <td>0.302274</td>\n",
       "      <td>-0.380673</td>\n",
       "    </tr>\n",
       "  </tbody>\n",
       "</table>\n",
       "</div>"
      ],
      "text/plain": [
       "          0         1         2\n",
       "a  0.272961 -1.200957 -0.034230\n",
       "a  0.080201 -0.191606  1.416896\n",
       "b  0.298108  0.584475  0.846407\n",
       "b  1.627171  0.302274 -0.380673"
      ]
     },
     "execution_count": 11,
     "metadata": {},
     "output_type": "execute_result"
    }
   ],
   "source": [
    "df = pd.DataFrame(np.random.randn(4, 3), index=['a','a','b','b'])\n",
    "\n",
    "df"
   ]
  },
  {
   "cell_type": "markdown",
   "metadata": {},
   "source": [
    "### 기술 통계 계산과 요약\n",
    "- pandas 객체는 일반적인 수학 method와 통계 method를 가지고 있다.\n",
    "- 이 method의 대부분은 하나의 Series나 DataFrame의 raw나 column에서 단일 값(합, 평균 같은)을 구축하는 축소 혹은 *요약 통계 범주* 속한다.\n",
    "- 순수 Numpy 배열에서 제공하는 동일한 method와 비교하여 pandas의 method는 처음부터 누락된 데이터를 제외하도록 설계되었다."
   ]
  },
  {
   "cell_type": "code",
   "execution_count": 26,
   "metadata": {},
   "outputs": [
    {
     "data": {
      "text/html": [
       "<div>\n",
       "<style scoped>\n",
       "    .dataframe tbody tr th:only-of-type {\n",
       "        vertical-align: middle;\n",
       "    }\n",
       "\n",
       "    .dataframe tbody tr th {\n",
       "        vertical-align: top;\n",
       "    }\n",
       "\n",
       "    .dataframe thead th {\n",
       "        text-align: right;\n",
       "    }\n",
       "</style>\n",
       "<table border=\"1\" class=\"dataframe\">\n",
       "  <thead>\n",
       "    <tr style=\"text-align: right;\">\n",
       "      <th></th>\n",
       "      <th>one</th>\n",
       "      <th>two</th>\n",
       "    </tr>\n",
       "  </thead>\n",
       "  <tbody>\n",
       "    <tr>\n",
       "      <th>a</th>\n",
       "      <td>1.20</td>\n",
       "      <td>NaN</td>\n",
       "    </tr>\n",
       "    <tr>\n",
       "      <th>b</th>\n",
       "      <td>7.10</td>\n",
       "      <td>-4.5</td>\n",
       "    </tr>\n",
       "    <tr>\n",
       "      <th>c</th>\n",
       "      <td>NaN</td>\n",
       "      <td>NaN</td>\n",
       "    </tr>\n",
       "    <tr>\n",
       "      <th>d</th>\n",
       "      <td>0.75</td>\n",
       "      <td>-1.3</td>\n",
       "    </tr>\n",
       "  </tbody>\n",
       "</table>\n",
       "</div>"
      ],
      "text/plain": [
       "    one  two\n",
       "a  1.20  NaN\n",
       "b  7.10 -4.5\n",
       "c   NaN  NaN\n",
       "d  0.75 -1.3"
      ]
     },
     "execution_count": 26,
     "metadata": {},
     "output_type": "execute_result"
    }
   ],
   "source": [
    "df = pd.DataFrame([[1.2, np.nan], [7.1, -4.5],\n",
    "                  [np.nan, np.nan], [0.75, -1.3]],\n",
    "                 index=['a','b','c','d'],\n",
    "                 columns = ['one','two'])\n",
    "\n",
    "df"
   ]
  },
  {
   "cell_type": "code",
   "execution_count": 27,
   "metadata": {},
   "outputs": [
    {
     "data": {
      "text/plain": [
       "one    9.05\n",
       "two   -5.80\n",
       "dtype: float64"
      ]
     },
     "execution_count": 27,
     "metadata": {},
     "output_type": "execute_result"
    }
   ],
   "source": [
    "df.sum()"
   ]
  },
  {
   "cell_type": "code",
   "execution_count": 28,
   "metadata": {},
   "outputs": [
    {
     "data": {
      "text/plain": [
       "a    1.20\n",
       "b    2.60\n",
       "c    0.00\n",
       "d   -0.55\n",
       "dtype: float64"
      ]
     },
     "execution_count": 28,
     "metadata": {},
     "output_type": "execute_result"
    }
   ],
   "source": [
    "df.sum(axis=1)"
   ]
  },
  {
   "cell_type": "markdown",
   "metadata": {},
   "source": [
    "- 전체 raw나 column 값이 NA가 아니라면 NA 값은 제외되고 계산된다. 이는 skipna옵션으로 조정할 수 있다."
   ]
  },
  {
   "cell_type": "code",
   "execution_count": 29,
   "metadata": {},
   "outputs": [
    {
     "data": {
      "text/plain": [
       "a      NaN\n",
       "b    1.300\n",
       "c      NaN\n",
       "d   -0.275\n",
       "dtype: float64"
      ]
     },
     "execution_count": 29,
     "metadata": {},
     "output_type": "execute_result"
    }
   ],
   "source": [
    "df.mean(axis='columns', skipna=False)"
   ]
  },
  {
   "cell_type": "code",
   "execution_count": 30,
   "metadata": {},
   "outputs": [
    {
     "data": {
      "text/html": [
       "<div>\n",
       "<style scoped>\n",
       "    .dataframe tbody tr th:only-of-type {\n",
       "        vertical-align: middle;\n",
       "    }\n",
       "\n",
       "    .dataframe tbody tr th {\n",
       "        vertical-align: top;\n",
       "    }\n",
       "\n",
       "    .dataframe thead th {\n",
       "        text-align: right;\n",
       "    }\n",
       "</style>\n",
       "<table border=\"1\" class=\"dataframe\">\n",
       "  <thead>\n",
       "    <tr style=\"text-align: right;\">\n",
       "      <th></th>\n",
       "      <th>색인</th>\n",
       "    </tr>\n",
       "    <tr>\n",
       "      <th>옵션</th>\n",
       "      <th></th>\n",
       "    </tr>\n",
       "  </thead>\n",
       "  <tbody>\n",
       "    <tr>\n",
       "      <th>axis</th>\n",
       "      <td>연산을 수행할 축, DataFrame에서 0은 raw고 1은 column이다</td>\n",
       "    </tr>\n",
       "    <tr>\n",
       "      <th>skipna</th>\n",
       "      <td>누락된 값을 제외할 것인지 정하는 옵션, 기본값은 True이다.</td>\n",
       "    </tr>\n",
       "    <tr>\n",
       "      <th>level</th>\n",
       "      <td>계산하려는 축이 계층적인 색인(다중 색인)이라면 레벨에 따라 묶어서 계산한다.</td>\n",
       "    </tr>\n",
       "  </tbody>\n",
       "</table>\n",
       "</div>"
      ],
      "text/plain": [
       "                                                 색인\n",
       "옵션                                                 \n",
       "axis     연산을 수행할 축, DataFrame에서 0은 raw고 1은 column이다\n",
       "skipna          누락된 값을 제외할 것인지 정하는 옵션, 기본값은 True이다.\n",
       "level   계산하려는 축이 계층적인 색인(다중 색인)이라면 레벨에 따라 묶어서 계산한다."
      ]
     },
     "execution_count": 30,
     "metadata": {},
     "output_type": "execute_result"
    }
   ],
   "source": [
    "색인 = pd.DataFrame([['연산을 수행할 축, DataFrame에서 0은 raw고 1은 column이다'],\n",
    "                   ['누락된 값을 제외할 것인지 정하는 옵션, 기본값은 True이다.'],\n",
    "                   ['계산하려는 축이 계층적인 색인(다중 색인)이라면 레벨에 따라 묶어서 계산한다.']],\n",
    "                 index=['axis','skipna','level'],\n",
    "                 columns = ['색인'])\n",
    "\n",
    "색인.index.name='옵션'\n",
    "\n",
    "색인"
   ]
  },
  {
   "cell_type": "code",
   "execution_count": null,
   "metadata": {},
   "outputs": [],
   "source": []
  },
  {
   "cell_type": "markdown",
   "metadata": {},
   "source": [
    "- idxmin이나 idxmax 같은 method는 최솟값 혹은 최댓값을 가지고 있는 색인값과 같은 간접 통계를 반환한다."
   ]
  },
  {
   "cell_type": "code",
   "execution_count": 31,
   "metadata": {},
   "outputs": [
    {
     "data": {
      "text/plain": [
       "one    b\n",
       "two    d\n",
       "dtype: object"
      ]
     },
     "execution_count": 31,
     "metadata": {},
     "output_type": "execute_result"
    }
   ],
   "source": [
    "df.idxmax()"
   ]
  },
  {
   "cell_type": "code",
   "execution_count": 32,
   "metadata": {},
   "outputs": [
    {
     "data": {
      "text/plain": [
       "one    d\n",
       "two    b\n",
       "dtype: object"
      ]
     },
     "execution_count": 32,
     "metadata": {},
     "output_type": "execute_result"
    }
   ],
   "source": [
    "df.idxmin()"
   ]
  },
  {
   "cell_type": "markdown",
   "metadata": {},
   "source": [
    "- 또 다른 메서드로 accumulation(누적합산)이 있다."
   ]
  },
  {
   "cell_type": "code",
   "execution_count": 33,
   "metadata": {},
   "outputs": [
    {
     "data": {
      "text/html": [
       "<div>\n",
       "<style scoped>\n",
       "    .dataframe tbody tr th:only-of-type {\n",
       "        vertical-align: middle;\n",
       "    }\n",
       "\n",
       "    .dataframe tbody tr th {\n",
       "        vertical-align: top;\n",
       "    }\n",
       "\n",
       "    .dataframe thead th {\n",
       "        text-align: right;\n",
       "    }\n",
       "</style>\n",
       "<table border=\"1\" class=\"dataframe\">\n",
       "  <thead>\n",
       "    <tr style=\"text-align: right;\">\n",
       "      <th></th>\n",
       "      <th>one</th>\n",
       "      <th>two</th>\n",
       "    </tr>\n",
       "  </thead>\n",
       "  <tbody>\n",
       "    <tr>\n",
       "      <th>a</th>\n",
       "      <td>1.20</td>\n",
       "      <td>NaN</td>\n",
       "    </tr>\n",
       "    <tr>\n",
       "      <th>b</th>\n",
       "      <td>8.30</td>\n",
       "      <td>-4.5</td>\n",
       "    </tr>\n",
       "    <tr>\n",
       "      <th>c</th>\n",
       "      <td>NaN</td>\n",
       "      <td>NaN</td>\n",
       "    </tr>\n",
       "    <tr>\n",
       "      <th>d</th>\n",
       "      <td>9.05</td>\n",
       "      <td>-5.8</td>\n",
       "    </tr>\n",
       "  </tbody>\n",
       "</table>\n",
       "</div>"
      ],
      "text/plain": [
       "    one  two\n",
       "a  1.20  NaN\n",
       "b  8.30 -4.5\n",
       "c   NaN  NaN\n",
       "d  9.05 -5.8"
      ]
     },
     "execution_count": 33,
     "metadata": {},
     "output_type": "execute_result"
    }
   ],
   "source": [
    "df.cumsum()"
   ]
  },
  {
   "cell_type": "markdown",
   "metadata": {},
   "source": [
    "- 한번에 여러 개의 통계 결과를 만드는 describe method도 있다."
   ]
  },
  {
   "cell_type": "code",
   "execution_count": 34,
   "metadata": {},
   "outputs": [
    {
     "data": {
      "text/html": [
       "<div>\n",
       "<style scoped>\n",
       "    .dataframe tbody tr th:only-of-type {\n",
       "        vertical-align: middle;\n",
       "    }\n",
       "\n",
       "    .dataframe tbody tr th {\n",
       "        vertical-align: top;\n",
       "    }\n",
       "\n",
       "    .dataframe thead th {\n",
       "        text-align: right;\n",
       "    }\n",
       "</style>\n",
       "<table border=\"1\" class=\"dataframe\">\n",
       "  <thead>\n",
       "    <tr style=\"text-align: right;\">\n",
       "      <th></th>\n",
       "      <th>one</th>\n",
       "      <th>two</th>\n",
       "    </tr>\n",
       "  </thead>\n",
       "  <tbody>\n",
       "    <tr>\n",
       "      <th>count</th>\n",
       "      <td>3.000000</td>\n",
       "      <td>2.000000</td>\n",
       "    </tr>\n",
       "    <tr>\n",
       "      <th>mean</th>\n",
       "      <td>3.016667</td>\n",
       "      <td>-2.900000</td>\n",
       "    </tr>\n",
       "    <tr>\n",
       "      <th>std</th>\n",
       "      <td>3.543421</td>\n",
       "      <td>2.262742</td>\n",
       "    </tr>\n",
       "    <tr>\n",
       "      <th>min</th>\n",
       "      <td>0.750000</td>\n",
       "      <td>-4.500000</td>\n",
       "    </tr>\n",
       "    <tr>\n",
       "      <th>25%</th>\n",
       "      <td>0.975000</td>\n",
       "      <td>-3.700000</td>\n",
       "    </tr>\n",
       "    <tr>\n",
       "      <th>50%</th>\n",
       "      <td>1.200000</td>\n",
       "      <td>-2.900000</td>\n",
       "    </tr>\n",
       "    <tr>\n",
       "      <th>75%</th>\n",
       "      <td>4.150000</td>\n",
       "      <td>-2.100000</td>\n",
       "    </tr>\n",
       "    <tr>\n",
       "      <th>max</th>\n",
       "      <td>7.100000</td>\n",
       "      <td>-1.300000</td>\n",
       "    </tr>\n",
       "  </tbody>\n",
       "</table>\n",
       "</div>"
      ],
      "text/plain": [
       "            one       two\n",
       "count  3.000000  2.000000\n",
       "mean   3.016667 -2.900000\n",
       "std    3.543421  2.262742\n",
       "min    0.750000 -4.500000\n",
       "25%    0.975000 -3.700000\n",
       "50%    1.200000 -2.900000\n",
       "75%    4.150000 -2.100000\n",
       "max    7.100000 -1.300000"
      ]
     },
     "execution_count": 34,
     "metadata": {},
     "output_type": "execute_result"
    }
   ],
   "source": [
    "df.describe()"
   ]
  },
  {
   "cell_type": "markdown",
   "metadata": {},
   "source": [
    "- 수치 데이터가 아닐 경우 describe는 다른 요약 통계를 생성한다."
   ]
  },
  {
   "cell_type": "code",
   "execution_count": 35,
   "metadata": {},
   "outputs": [
    {
     "data": {
      "text/plain": [
       "count     16\n",
       "unique     3\n",
       "top        a\n",
       "freq       8\n",
       "dtype: object"
      ]
     },
     "execution_count": 35,
     "metadata": {},
     "output_type": "execute_result"
    }
   ],
   "source": [
    "obj = pd.Series(['a','a','b','c']* 4)\n",
    "\n",
    "obj.describe()"
   ]
  },
  {
   "cell_type": "code",
   "execution_count": 37,
   "metadata": {},
   "outputs": [
    {
     "data": {
      "text/html": [
       "<div>\n",
       "<style scoped>\n",
       "    .dataframe tbody tr th:only-of-type {\n",
       "        vertical-align: middle;\n",
       "    }\n",
       "\n",
       "    .dataframe tbody tr th {\n",
       "        vertical-align: top;\n",
       "    }\n",
       "\n",
       "    .dataframe thead th {\n",
       "        text-align: right;\n",
       "    }\n",
       "</style>\n",
       "<table border=\"1\" class=\"dataframe\">\n",
       "  <thead>\n",
       "    <tr style=\"text-align: right;\">\n",
       "      <th></th>\n",
       "      <th>설명</th>\n",
       "    </tr>\n",
       "    <tr>\n",
       "      <th>method</th>\n",
       "      <th></th>\n",
       "    </tr>\n",
       "  </thead>\n",
       "  <tbody>\n",
       "    <tr>\n",
       "      <th>count</th>\n",
       "      <td>NA 값을 제외한 값의 수를 반환한다.</td>\n",
       "    </tr>\n",
       "    <tr>\n",
       "      <th>describe</th>\n",
       "      <td>Series나 DataFrame의 각 column에 대한 요약 통계를 계산한다.</td>\n",
       "    </tr>\n",
       "    <tr>\n",
       "      <th>min, max</th>\n",
       "      <td>최솟값과 최댓값을 계산한다.</td>\n",
       "    </tr>\n",
       "    <tr>\n",
       "      <th>argmin, argmax</th>\n",
       "      <td>각각 최솟값과 최댓값을 담고 있는 색인의 위치(정수)를 반환한다.</td>\n",
       "    </tr>\n",
       "    <tr>\n",
       "      <th>idxmin, idxmax</th>\n",
       "      <td>각각 최솟값과 최댓값을 담고 있는 색인의 값을 반환한다.</td>\n",
       "    </tr>\n",
       "    <tr>\n",
       "      <th>quantile</th>\n",
       "      <td>0부터 1까지의 분위수를 계산한다.</td>\n",
       "    </tr>\n",
       "    <tr>\n",
       "      <th>sum</th>\n",
       "      <td>합을 계산한다.</td>\n",
       "    </tr>\n",
       "    <tr>\n",
       "      <th>mean</th>\n",
       "      <td>평균을 계산한다.</td>\n",
       "    </tr>\n",
       "    <tr>\n",
       "      <th>median</th>\n",
       "      <td>중간값(50% 분위)을 반환한다.</td>\n",
       "    </tr>\n",
       "    <tr>\n",
       "      <th>mad</th>\n",
       "      <td>평균값에서 평균절대편차를 계산한다.</td>\n",
       "    </tr>\n",
       "    <tr>\n",
       "      <th>prod</th>\n",
       "      <td>모든 값의 곱</td>\n",
       "    </tr>\n",
       "    <tr>\n",
       "      <th>var</th>\n",
       "      <td>표본분산의 값을 계산한다.</td>\n",
       "    </tr>\n",
       "    <tr>\n",
       "      <th>std</th>\n",
       "      <td>표본표준편차의 값을 계산한다.</td>\n",
       "    </tr>\n",
       "    <tr>\n",
       "      <th>skew</th>\n",
       "      <td>표본대칭도(3차 적률)의 값을 계산한다.</td>\n",
       "    </tr>\n",
       "    <tr>\n",
       "      <th>kurt</th>\n",
       "      <td>표본첨도(4차 적률)의 값을 계산한다.</td>\n",
       "    </tr>\n",
       "    <tr>\n",
       "      <th>cumsum</th>\n",
       "      <td>누적합을 계산한다.</td>\n",
       "    </tr>\n",
       "    <tr>\n",
       "      <th>cummin, cummax</th>\n",
       "      <td>각각 누적 최솟값과 누적 최댓값을 계산한다.</td>\n",
       "    </tr>\n",
       "    <tr>\n",
       "      <th>sumprod</th>\n",
       "      <td>누적곱을 계산한다.</td>\n",
       "    </tr>\n",
       "    <tr>\n",
       "      <th>diff</th>\n",
       "      <td>1차 산술차를 계산한다(시계열 데이터 처리 시 유용하다.)</td>\n",
       "    </tr>\n",
       "    <tr>\n",
       "      <th>pct_change</th>\n",
       "      <td>퍼센트 변화율을 계산한다.</td>\n",
       "    </tr>\n",
       "  </tbody>\n",
       "</table>\n",
       "</div>"
      ],
      "text/plain": [
       "                                                          설명\n",
       "method                                                      \n",
       "count                                  NA 값을 제외한 값의 수를 반환한다.\n",
       "describe        Series나 DataFrame의 각 column에 대한 요약 통계를 계산한다.\n",
       "min, max                                     최솟값과 최댓값을 계산한다.\n",
       "argmin, argmax          각각 최솟값과 최댓값을 담고 있는 색인의 위치(정수)를 반환한다.\n",
       "idxmin, idxmax               각각 최솟값과 최댓값을 담고 있는 색인의 값을 반환한다.\n",
       "quantile                                 0부터 1까지의 분위수를 계산한다.\n",
       "sum                                                 합을 계산한다.\n",
       "mean                                               평균을 계산한다.\n",
       "median                                    중간값(50% 분위)을 반환한다.\n",
       "mad                                      평균값에서 평균절대편차를 계산한다.\n",
       "prod                                                 모든 값의 곱\n",
       "var                                           표본분산의 값을 계산한다.\n",
       "std                                         표본표준편차의 값을 계산한다.\n",
       "skew                                  표본대칭도(3차 적률)의 값을 계산한다.\n",
       "kurt                                   표본첨도(4차 적률)의 값을 계산한다.\n",
       "cumsum                                            누적합을 계산한다.\n",
       "cummin, cummax                      각각 누적 최솟값과 누적 최댓값을 계산한다.\n",
       "sumprod                                           누적곱을 계산한다.\n",
       "diff                        1차 산술차를 계산한다(시계열 데이터 처리 시 유용하다.)\n",
       "pct_change                                    퍼센트 변화율을 계산한다."
      ]
     },
     "execution_count": 37,
     "metadata": {},
     "output_type": "execute_result"
    }
   ],
   "source": [
    " # 요약 통계 관련 method\n",
    "method = pd.DataFrame([['NA 값을 제외한 값의 수를 반환한다.'],\n",
    "                       ['Series나 DataFrame의 각 column에 대한 요약 통계를 계산한다.'],\n",
    "                       ['최솟값과 최댓값을 계산한다.'],\n",
    "                       ['각각 최솟값과 최댓값을 담고 있는 색인의 위치(정수)를 반환한다.'],\n",
    "                       ['각각 최솟값과 최댓값을 담고 있는 색인의 값을 반환한다.'],\n",
    "                       ['0부터 1까지의 분위수를 계산한다.'],\n",
    "                       ['합을 계산한다.'],\n",
    "                       ['평균을 계산한다.'],\n",
    "                       ['중간값(50% 분위)을 반환한다.'],\n",
    "                       ['평균값에서 평균절대편차를 계산한다.'],\n",
    "                       ['모든 값의 곱'],\n",
    "                       ['표본분산의 값을 계산한다.'],\n",
    "                       ['표본표준편차의 값을 계산한다.'],\n",
    "                       ['표본대칭도(3차 적률)의 값을 계산한다.'],\n",
    "                       ['표본첨도(4차 적률)의 값을 계산한다.'],\n",
    "                       ['누적합을 계산한다.'],\n",
    "                       ['각각 누적 최솟값과 누적 최댓값을 계산한다.'],\n",
    "                       ['누적곱을 계산한다.'],\n",
    "                       ['1차 산술차를 계산한다(시계열 데이터 처리 시 유용하다.)'],\n",
    "                       ['퍼센트 변화율을 계산한다.']],\n",
    "                        index=['count','describe','min, max','argmin, argmax', 'idxmin, idxmax', 'quantile','sum','mean',\n",
    "                              'median','mad','prod','var','std','skew','kurt','cumsum','cummin, cummax','sumprod','diff','pct_change'],\n",
    "                         columns = ['설명'])\n",
    "\n",
    "method.index.name='method'\n",
    "\n",
    "method"
   ]
  },
  {
   "cell_type": "code",
   "execution_count": null,
   "metadata": {},
   "outputs": [],
   "source": []
  }
 ],
 "metadata": {
  "kernelspec": {
   "display_name": "Python 3",
   "language": "python",
   "name": "python3"
  },
  "language_info": {
   "codemirror_mode": {
    "name": "ipython",
    "version": 3
   },
   "file_extension": ".py",
   "mimetype": "text/x-python",
   "name": "python",
   "nbconvert_exporter": "python",
   "pygments_lexer": "ipython3",
   "version": "3.8.5"
  }
 },
 "nbformat": 4,
 "nbformat_minor": 4
}
